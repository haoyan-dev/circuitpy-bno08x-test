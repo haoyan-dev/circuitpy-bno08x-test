{
 "cells": [
  {
   "cell_type": "code",
   "execution_count": null,
   "metadata": {},
   "outputs": [],
   "source": [
    "import dotenv\n",
    "import os\n",
    "\n",
    "env_file = '../.env'\n",
    "\n",
    "dotenv.load_dotenv(env_file, override=True)\n",
    "\n",
    "os.environ[\"BLINKA_FT232H\"]"
   ]
  },
  {
   "cell_type": "code",
   "execution_count": null,
   "metadata": {},
   "outputs": [],
   "source": [
    "from pyftdi.ftdi import Ftdi\n",
    "Ftdi().open_from_url('ftdi:///?')"
   ]
  },
  {
   "cell_type": "code",
   "execution_count": null,
   "metadata": {},
   "outputs": [],
   "source": [
    "import board\n",
    "import busio\n",
    "\n",
    "i2c = busio.I2C(board.SCL, board.SDA, frequency=100000)\n",
    "i2c.try_lock()\n",
    "i2c.scan()"
   ]
  },
  {
   "cell_type": "code",
   "execution_count": 3,
   "metadata": {},
   "outputs": [
    {
     "name": "stdout",
     "output_type": "stream",
     "text": [
      "DBG::\t\t ********** __init__ *************\n",
      "DBG::\t\t Soft resetting...DBG::\t\t Sending packet:\n",
      "DBG::\t\t \n",
      "\t\t********** Packet *************\n",
      "DBG::\t\t HEADER:\n",
      "DBG::\t\t Data Len: 1\n",
      "DBG::\t\t Channel: EXE (1)\n",
      "DBG::\t\t Sequence number: 0\n",
      "\n",
      "DBG::\t\t Data:\n",
      "DBG::\t\t[0x04] 0x01 \n",
      "\t\t*******************************\n",
      "\n",
      "DBG::\t\t Sending packet:\n",
      "DBG::\t\t \n",
      "\t\t********** Packet *************\n",
      "DBG::\t\t HEADER:\n",
      "DBG::\t\t Data Len: 1\n",
      "DBG::\t\t Channel: EXE (1)\n",
      "DBG::\t\t Sequence number: 1\n",
      "\n",
      "DBG::\t\t Data:\n",
      "DBG::\t\t[0x04] 0x01 \n",
      "\t\t*******************************\n",
      "\n",
      "DBG::\t\t \n",
      "SHTP READ packet header:  ['0xa', '0xff', '0xff', '0xff']\n"
     ]
    },
    {
     "ename": "IndexError",
     "evalue": "list assignment index out of range",
     "output_type": "error",
     "traceback": [
      "\u001b[0;31m---------------------------------------------------------------------------\u001b[0m",
      "\u001b[0;31mIndexError\u001b[0m                                Traceback (most recent call last)",
      "Cell \u001b[0;32mIn[3], line 18\u001b[0m\n\u001b[1;32m     16\u001b[0m i2c \u001b[38;5;241m=\u001b[39m busio\u001b[38;5;241m.\u001b[39mI2C(board\u001b[38;5;241m.\u001b[39mSCL, board\u001b[38;5;241m.\u001b[39mSDA, \u001b[38;5;241m100000\u001b[39m)\n\u001b[1;32m     17\u001b[0m \u001b[38;5;66;03m# bno = BNO08X_UART(uart, debug=True)\u001b[39;00m\n\u001b[0;32m---> 18\u001b[0m bno \u001b[38;5;241m=\u001b[39m \u001b[43mBNO08X_I2C\u001b[49m\u001b[43m(\u001b[49m\u001b[43mi2c\u001b[49m\u001b[43m,\u001b[49m\u001b[43m \u001b[49m\u001b[43mdebug\u001b[49m\u001b[38;5;241;43m=\u001b[39;49m\u001b[38;5;28;43;01mTrue\u001b[39;49;00m\u001b[43m)\u001b[49m\n\u001b[1;32m     19\u001b[0m bno\u001b[38;5;241m.\u001b[39menable_feature(BNO_REPORT_ACCELEROMETER)\n\u001b[1;32m     21\u001b[0m \u001b[38;5;28;01mwhile\u001b[39;00m \u001b[38;5;28;01mTrue\u001b[39;00m:\n",
      "File \u001b[0;32m~/repositories/circuitpy-bno08x-test/.venv/lib/python3.12/site-packages/adafruit_bno08x/i2c.py:27\u001b[0m, in \u001b[0;36mBNO08X_I2C.__init__\u001b[0;34m(self, i2c_bus, reset, address, debug)\u001b[0m\n\u001b[1;32m     23\u001b[0m \u001b[38;5;28;01mdef\u001b[39;00m\u001b[38;5;250m \u001b[39m\u001b[38;5;21m__init__\u001b[39m(\n\u001b[1;32m     24\u001b[0m     \u001b[38;5;28mself\u001b[39m, i2c_bus, reset\u001b[38;5;241m=\u001b[39m\u001b[38;5;28;01mNone\u001b[39;00m, address\u001b[38;5;241m=\u001b[39m_BNO08X_DEFAULT_ADDRESS, debug\u001b[38;5;241m=\u001b[39m\u001b[38;5;28;01mFalse\u001b[39;00m\n\u001b[1;32m     25\u001b[0m ):\n\u001b[1;32m     26\u001b[0m     \u001b[38;5;28mself\u001b[39m\u001b[38;5;241m.\u001b[39mbus_device_obj \u001b[38;5;241m=\u001b[39m i2c_device\u001b[38;5;241m.\u001b[39mI2CDevice(i2c_bus, address)\n\u001b[0;32m---> 27\u001b[0m     \u001b[38;5;28;43msuper\u001b[39;49m\u001b[43m(\u001b[49m\u001b[43m)\u001b[49m\u001b[38;5;241;43m.\u001b[39;49m\u001b[38;5;21;43m__init__\u001b[39;49m\u001b[43m(\u001b[49m\u001b[43mreset\u001b[49m\u001b[43m,\u001b[49m\u001b[43m \u001b[49m\u001b[43mdebug\u001b[49m\u001b[43m)\u001b[49m\n",
      "File \u001b[0;32m~/repositories/circuitpy-bno08x-test/.venv/lib/python3.12/site-packages/adafruit_bno08x/__init__.py:517\u001b[0m, in \u001b[0;36mBNO08X.__init__\u001b[0;34m(self, reset, debug)\u001b[0m\n\u001b[1;32m    515\u001b[0m \u001b[38;5;66;03m# for saving the most recent reading when decoding several packets\u001b[39;00m\n\u001b[1;32m    516\u001b[0m \u001b[38;5;28mself\u001b[39m\u001b[38;5;241m.\u001b[39m_readings: Dict[\u001b[38;5;28mint\u001b[39m, Any] \u001b[38;5;241m=\u001b[39m {}\n\u001b[0;32m--> 517\u001b[0m \u001b[38;5;28;43mself\u001b[39;49m\u001b[38;5;241;43m.\u001b[39;49m\u001b[43minitialize\u001b[49m\u001b[43m(\u001b[49m\u001b[43m)\u001b[49m\n",
      "File \u001b[0;32m~/repositories/circuitpy-bno08x-test/.venv/lib/python3.12/site-packages/adafruit_bno08x/__init__.py:523\u001b[0m, in \u001b[0;36mBNO08X.initialize\u001b[0;34m(self)\u001b[0m\n\u001b[1;32m    521\u001b[0m \u001b[38;5;28;01mfor\u001b[39;00m _ \u001b[38;5;129;01min\u001b[39;00m \u001b[38;5;28mrange\u001b[39m(\u001b[38;5;241m3\u001b[39m):\n\u001b[1;32m    522\u001b[0m     \u001b[38;5;28mself\u001b[39m\u001b[38;5;241m.\u001b[39mhard_reset()\n\u001b[0;32m--> 523\u001b[0m     \u001b[38;5;28;43mself\u001b[39;49m\u001b[38;5;241;43m.\u001b[39;49m\u001b[43msoft_reset\u001b[49m\u001b[43m(\u001b[49m\u001b[43m)\u001b[49m\n\u001b[1;32m    524\u001b[0m     \u001b[38;5;28;01mtry\u001b[39;00m:\n\u001b[1;32m    525\u001b[0m         \u001b[38;5;28;01mif\u001b[39;00m \u001b[38;5;28mself\u001b[39m\u001b[38;5;241m.\u001b[39m_check_id():\n",
      "File \u001b[0;32m~/repositories/circuitpy-bno08x-test/.venv/lib/python3.12/site-packages/adafruit_bno08x/__init__.py:1086\u001b[0m, in \u001b[0;36mBNO08X.soft_reset\u001b[0;34m(self)\u001b[0m\n\u001b[1;32m   1084\u001b[0m \u001b[38;5;28;01mfor\u001b[39;00m _i \u001b[38;5;129;01min\u001b[39;00m \u001b[38;5;28mrange\u001b[39m(\u001b[38;5;241m3\u001b[39m):\n\u001b[1;32m   1085\u001b[0m     \u001b[38;5;28;01mtry\u001b[39;00m:\n\u001b[0;32m-> 1086\u001b[0m         _packet \u001b[38;5;241m=\u001b[39m \u001b[38;5;28;43mself\u001b[39;49m\u001b[38;5;241;43m.\u001b[39;49m\u001b[43m_read_packet\u001b[49m\u001b[43m(\u001b[49m\u001b[43m)\u001b[49m\n\u001b[1;32m   1087\u001b[0m     \u001b[38;5;28;01mexcept\u001b[39;00m PacketError:\n\u001b[1;32m   1088\u001b[0m         time\u001b[38;5;241m.\u001b[39msleep(\u001b[38;5;241m0.5\u001b[39m)\n",
      "File \u001b[0;32m~/repositories/circuitpy-bno08x-test/.venv/lib/python3.12/site-packages/adafruit_bno08x/i2c.py:77\u001b[0m, in \u001b[0;36mBNO08X_I2C._read_packet\u001b[0;34m(self)\u001b[0m\n\u001b[1;32m     73\u001b[0m     \u001b[38;5;28mself\u001b[39m\u001b[38;5;241m.\u001b[39m_dbg(\u001b[38;5;124m\"\u001b[39m\u001b[38;5;124mSKIPPING PACKET ERROR IN i2c._read_packet\u001b[39m\u001b[38;5;124m\"\u001b[39m)\n\u001b[1;32m     74\u001b[0m     \u001b[38;5;28;01mraise\u001b[39;00m PacketError(\u001b[38;5;124m\"\u001b[39m\u001b[38;5;124mPacket error\u001b[39m\u001b[38;5;124m\"\u001b[39m)\n\u001b[0;32m---> 77\u001b[0m \u001b[38;5;28;43mself\u001b[39;49m\u001b[38;5;241;43m.\u001b[39;49m\u001b[43m_sequence_number\u001b[49m\u001b[43m[\u001b[49m\u001b[43mchannel_number\u001b[49m\u001b[43m]\u001b[49m \u001b[38;5;241m=\u001b[39m sequence_number\n\u001b[1;32m     78\u001b[0m packet_byte_count \u001b[38;5;241m-\u001b[39m\u001b[38;5;241m=\u001b[39m \u001b[38;5;241m4\u001b[39m\n\u001b[1;32m     79\u001b[0m \u001b[38;5;28mself\u001b[39m\u001b[38;5;241m.\u001b[39m_dbg(\n\u001b[1;32m     80\u001b[0m     \u001b[38;5;124m\"\u001b[39m\u001b[38;5;124mchannel\u001b[39m\u001b[38;5;124m\"\u001b[39m,\n\u001b[1;32m     81\u001b[0m     channel_number,\n\u001b[0;32m   (...)\u001b[0m\n\u001b[1;32m     84\u001b[0m     \u001b[38;5;124m\"\u001b[39m\u001b[38;5;124mbytes available to read\u001b[39m\u001b[38;5;124m\"\u001b[39m,\n\u001b[1;32m     85\u001b[0m )\n",
      "\u001b[0;31mIndexError\u001b[0m: list assignment index out of range"
     ]
    }
   ],
   "source": [
    "import board\n",
    "import busio\n",
    "import digitalio\n",
    "from adafruit_bno08x.i2c import BNO08X_I2C\n",
    "from adafruit_bno08x.uart import BNO08X_UART\n",
    "from adafruit_bno08x import BNO_REPORT_ACCELEROMETER\n",
    "\n",
    "# i2c = board.I2C()\n",
    "# 3Mkb/s\n",
    "# uart = busio.UART(board.TX, board.RX, baudrate=3000000)\n",
    "# uart = busio.UART(board.TX, board.RX, baudrate=9600)\n",
    "reset = digitalio.DigitalInOut(board.C0)\n",
    "# reset.switch_to_output(value=True)\n",
    "\n",
    "\n",
    "i2c = busio.I2C(board.SCL, board.SDA, 100000)\n",
    "# bno = BNO08X_UART(uart, debug=True)\n",
    "bno = BNO08X_I2C(i2c, debug=True)\n",
    "bno.enable_feature(BNO_REPORT_ACCELEROMETER)\n",
    "\n",
    "while True:\n",
    "    accel_x, accel_y, accel_z = bno.acceleration  # pylint:disable=no-member\n",
    "    print(\"X: %0.6f  Y: %0.6f Z: %0.6f  m/s^2\" % (accel_x, accel_y, accel_z))"
   ]
  },
  {
   "cell_type": "code",
   "execution_count": null,
   "metadata": {},
   "outputs": [],
   "source": [
    "# SPDX-FileCopyrightText: 2020 Bryan Siepert, written for Adafruit Industries\n",
    "#\n",
    "# SPDX-License-Identifier: Unlicense\n",
    "import time\n",
    "import adafruit_bno08x\n",
    "from adafruit_bno08x.uart import BNO08X_UART\n",
    "\n",
    "import board  # pylint:disable=wrong-import-order\n",
    "import busio  # pylint:disable=wrong-import-order\n",
    "\n",
    "#uart = busio.UART(board.TX, board.RX, baudrate=3000000, receiver_buffer_size=2048)\n",
    "\n",
    "# uncomment and comment out the above for use with Raspberry Pi\n",
    "\n",
    "# for a USB Serial cable:\n",
    "import serial\n",
    "uart = serial.Serial(\"/dev/ttyUSB0\", baudrate=3000000)\n",
    "\n",
    "bno = BNO08X_UART(uart, reset=None, debug=True)\n",
    "\n",
    "bno.enable_feature(adafruit_bno08x.BNO_REPORT_ACCELEROMETER)\n",
    "bno.enable_feature(adafruit_bno08x.BNO_REPORT_GYROSCOPE)\n",
    "bno.enable_feature(adafruit_bno08x.BNO_REPORT_MAGNETOMETER)\n",
    "bno.enable_feature(adafruit_bno08x.BNO_REPORT_ROTATION_VECTOR)\n",
    "\n",
    "..."
   ]
  }
 ],
 "metadata": {
  "kernelspec": {
   "display_name": ".venv",
   "language": "python",
   "name": "python3"
  },
  "language_info": {
   "codemirror_mode": {
    "name": "ipython",
    "version": 3
   },
   "file_extension": ".py",
   "mimetype": "text/x-python",
   "name": "python",
   "nbconvert_exporter": "python",
   "pygments_lexer": "ipython3",
   "version": "3.12.3"
  }
 },
 "nbformat": 4,
 "nbformat_minor": 2
}
